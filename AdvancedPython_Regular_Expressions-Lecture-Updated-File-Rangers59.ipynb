{
 "cells": [
  {
   "cell_type": "markdown",
   "metadata": {},
   "source": [
    "# Regular Expressions"
   ]
  },
  {
   "cell_type": "markdown",
   "metadata": {},
   "source": [
    "# Tasks today:\n",
    "1) <b>Importing</b> <br>\n",
    "2) <b>Using Regular Expressions</b> <br>\n",
    " &nbsp;&nbsp;&nbsp;&nbsp; a) re.compile() <br>\n",
    " &nbsp;&nbsp;&nbsp;&nbsp; b) re.match() <br>\n",
    " &nbsp;&nbsp;&nbsp;&nbsp; c) re.findall() <br>\n",
    " &nbsp;&nbsp;&nbsp;&nbsp; d) re.search() <br>\n",
    "3) <b>Sets</b> <br>\n",
    " &nbsp;&nbsp;&nbsp;&nbsp; a) Integer Ranges <br>\n",
    " &nbsp;&nbsp;&nbsp;&nbsp; b) Character Ranges <br>\n",
    "4) <b>Counting Occurences</b> <br>\n",
    " &nbsp;&nbsp;&nbsp;&nbsp; a) {x} <br>\n",
    " &nbsp;&nbsp;&nbsp;&nbsp; b) {, x} <br>\n",
    " &nbsp;&nbsp;&nbsp;&nbsp; c) {?} <br>\n",
    " &nbsp;&nbsp;&nbsp;&nbsp; d) {*} <br>\n",
    " &nbsp;&nbsp;&nbsp;&nbsp; e) {+} <br>\n",
    "5) <b>In-Class Exercise #1</b> <br>\n",
    "6) <b>Escaping Characters</b> <br>\n",
    "7) <b>Grouping</b> <br>\n",
    "8) <b>In-Class Exercise #2</b> <br>\n",
    "9) <b>Opening a File</b> <br>\n",
    " &nbsp;&nbsp;&nbsp;&nbsp; a) open() <br>\n",
    " &nbsp;&nbsp;&nbsp;&nbsp; b) with open() <br>\n",
    " &nbsp;&nbsp;&nbsp;&nbsp; c) re.match() <br>\n",
    " &nbsp;&nbsp;&nbsp;&nbsp; d) re.search() <br>\n",
    " &nbsp;&nbsp;&nbsp;&nbsp; e) Store the String in a Variable <br>\n",
    "10) <b>Regex Project</b> <br>"
   ]
  },
  {
   "cell_type": "markdown",
   "metadata": {},
   "source": [
    "### Importing <br>\n",
    "<p>Regular Expressions are universal throughout most programming languages... They are generally imported through the module 're'.</p>"
   ]
  },
  {
   "cell_type": "code",
   "execution_count": 1,
   "metadata": {},
   "outputs": [],
   "source": [
    "# import re\n",
    "import re"
   ]
  },
  {
   "cell_type": "markdown",
   "metadata": {},
   "source": [
    "### Using Regular Expressions <br>\n",
    "<p>Regular expressions give us the ability to search for patterns within text, strings, files, etc. They serve several uses, such as; security measures, searching, filtering, pattern recognition, and more...</p>"
   ]
  },
  {
   "cell_type": "markdown",
   "metadata": {},
   "source": [
    "##### re.compile()"
   ]
  },
  {
   "cell_type": "code",
   "execution_count": 3,
   "metadata": {},
   "outputs": [],
   "source": [
    "# using compile, pre determines the string to be used in regular expression methods\n",
    "pattern = re.compile('abcd')\n"
   ]
  },
  {
   "cell_type": "markdown",
   "metadata": {},
   "source": [
    "##### re.match()"
   ]
  },
  {
   "cell_type": "code",
   "execution_count": 16,
   "metadata": {},
   "outputs": [
    {
     "name": "stdout",
     "output_type": "stream",
     "text": [
      "(0, 4)\n",
      "<re.Match object; span=(0, 4), match='abcd'>\n"
     ]
    }
   ],
   "source": [
    "match = pattern.match('abcd123')\n",
    "print(match.span())\n",
    "print(match)\n",
    "\n",
    "# Accessing the span of the match\n"
   ]
  },
  {
   "cell_type": "markdown",
   "metadata": {},
   "source": [
    "##### re.findall()"
   ]
  },
  {
   "cell_type": "code",
   "execution_count": 11,
   "metadata": {},
   "outputs": [
    {
     "name": "stdout",
     "output_type": "stream",
     "text": [
      "['abcd', 'abcd', 'abcd']\n",
      "<class 'list'>\n"
     ]
    }
   ],
   "source": [
    "finders = pattern.findall('123abcd baccd123 abcd1235 abcd')\n",
    "print(finders)\n",
    "print(type(finders))"
   ]
  },
  {
   "cell_type": "markdown",
   "metadata": {},
   "source": [
    "##### re.search()"
   ]
  },
  {
   "cell_type": "code",
   "execution_count": 14,
   "metadata": {},
   "outputs": [
    {
     "name": "stdout",
     "output_type": "stream",
     "text": [
      "<re.Match object; span=(12, 16), match='abcd'>\n",
      "(12, 16)\n"
     ]
    }
   ],
   "source": [
    "rand_str = '123 123 321 abcd abc abcd'\n",
    "search = pattern.search(rand_str)\n",
    "print(search)\n",
    "span = search.span()\n",
    "print(span)\n"
   ]
  },
  {
   "cell_type": "markdown",
   "metadata": {},
   "source": [
    "### Sets <br>\n",
    "<p>The following cells will allow you to use regular expressions to search for certain values within a range such as numbers 1 through 4.</p>"
   ]
  },
  {
   "cell_type": "markdown",
   "metadata": {},
   "source": [
    "##### [a-z] or [A-Z] - any lowercase/uppercase letters from a to z<br/>[^2] - anything that's not 2"
   ]
  },
  {
   "cell_type": "markdown",
   "metadata": {},
   "source": [
    "##### Integer Ranges"
   ]
  },
  {
   "cell_type": "code",
   "execution_count": 19,
   "metadata": {},
   "outputs": [
    {
     "name": "stdout",
     "output_type": "stream",
     "text": [
      "<re.Match object; span=(0, 1), match='3'>\n",
      "['3', '2', '4', '7', '6', '6', '6', '6']\n"
     ]
    }
   ],
   "source": [
    "pattern_int = re.compile('[0-7]')\n",
    "random_numbers = pattern_int.search('32476898')\n",
    "a = pattern_int.findall('32476898666')\n",
    "print(random_numbers)\n",
    "print(a)"
   ]
  },
  {
   "cell_type": "markdown",
   "metadata": {},
   "source": [
    "##### Character Ranges"
   ]
  },
  {
   "cell_type": "code",
   "execution_count": 21,
   "metadata": {},
   "outputs": [
    {
     "name": "stdout",
     "output_type": "stream",
     "text": [
      "['He', 'Wo', 'Ld']\n"
     ]
    }
   ],
   "source": [
    "charpatt = re.compile('[A-Z][a-z]')\n",
    "found = charpatt.findall(\"Hello WorLd\")\n",
    "print(found)"
   ]
  },
  {
   "cell_type": "markdown",
   "metadata": {},
   "source": [
    "### Counting Occurences"
   ]
  },
  {
   "cell_type": "markdown",
   "metadata": {},
   "source": [
    "##### {x} - something that occurs {num_of_times}"
   ]
  },
  {
   "cell_type": "code",
   "execution_count": 23,
   "metadata": {},
   "outputs": [
    {
     "name": "stdout",
     "output_type": "stream",
     "text": [
      "['Le77']\n"
     ]
    }
   ],
   "source": [
    "charpattcount= re.compile('[A-Z][a-z][0-8]{2}')\n",
    "ans = charpattcount.findall('Hello Mister Le77erman')\n",
    "print(ans)"
   ]
  },
  {
   "cell_type": "markdown",
   "metadata": {},
   "source": [
    "##### {x, x} - something that occurs between x and x times"
   ]
  },
  {
   "cell_type": "code",
   "execution_count": 37,
   "metadata": {},
   "outputs": [
    {
     "name": "stdout",
     "output_type": "stream",
     "text": [
      "['m', 'm', 'm', 'm', 'mmmmm', 'mmm', 'm', 'mm', 'm', 'm', 'm', 'm', 'm', 'm', 'm']\n"
     ]
    }
   ],
   "source": [
    "charpattcount = re.compile('m{1,5}')\n",
    "ans = charpattcount.findall('masdkfnamsdfkamsmammmmmmmmfsdfasdjklfamdsfmmamdslkfamkdsfmlasdmfasmdfmoaisdfoima')\n",
    "print(ans)"
   ]
  },
  {
   "cell_type": "markdown",
   "metadata": {},
   "source": [
    "##### ? - something that occurs 0 or 1 time"
   ]
  },
  {
   "cell_type": "code",
   "execution_count": 41,
   "metadata": {},
   "outputs": [
    {
     "name": "stdout",
     "output_type": "stream",
     "text": [
      "['Mrss', 'Mrs', 'Mrss']\n"
     ]
    }
   ],
   "source": [
    "a = re.compile(\"Mrss?\")\n",
    "b = a.findall('Mrss Mrs Mrssssssss')\n",
    "print(b)"
   ]
  },
  {
   "cell_type": "markdown",
   "metadata": {},
   "source": [
    "##### * - something that occurs at least 0 times"
   ]
  },
  {
   "cell_type": "code",
   "execution_count": null,
   "metadata": {},
   "outputs": [],
   "source": []
  },
  {
   "cell_type": "markdown",
   "metadata": {},
   "source": [
    "##### + - something that occurs at least once"
   ]
  },
  {
   "cell_type": "code",
   "execution_count": null,
   "metadata": {},
   "outputs": [],
   "source": []
  },
  {
   "cell_type": "markdown",
   "metadata": {},
   "source": [
    "##### In-class exercise 1: \n",
    "\n",
    "Use a regular expression to find every number in the given string"
   ]
  },
  {
   "cell_type": "code",
   "execution_count": null,
   "metadata": {},
   "outputs": [],
   "source": [
    "\n"
   ]
  },
  {
   "cell_type": "markdown",
   "metadata": {},
   "source": [
    "### Escaping Characters"
   ]
  },
  {
   "cell_type": "markdown",
   "metadata": {},
   "source": [
    "##### \\w - look for any Unicode character<br/>\\W - look for anything that isnt a Unicode character\n",
    "\n",
    "[History on Unicode](http://unicode.org/standard/WhatIsUnicode.html)\n",
    "\n",
    "[More on Unicode Characters](https://en.wikipedia.org/wiki/List_of_Unicode_characters)"
   ]
  },
  {
   "cell_type": "code",
   "execution_count": null,
   "metadata": {},
   "outputs": [],
   "source": []
  },
  {
   "cell_type": "markdown",
   "metadata": {},
   "source": [
    "##### \\d - look for any digit 0-9<br/>\\D - look for anything that isnt a digit"
   ]
  },
  {
   "cell_type": "code",
   "execution_count": null,
   "metadata": {},
   "outputs": [],
   "source": []
  },
  {
   "cell_type": "markdown",
   "metadata": {},
   "source": [
    "##### \\s - look for any white space<br/>\\S - look for anything that isnt whitespace"
   ]
  },
  {
   "cell_type": "code",
   "execution_count": null,
   "metadata": {},
   "outputs": [],
   "source": []
  },
  {
   "cell_type": "markdown",
   "metadata": {},
   "source": [
    "##### \\b - look for boundaries or edges of a word<br/>\\B - look for anything that isnt a boundary"
   ]
  },
  {
   "cell_type": "code",
   "execution_count": null,
   "metadata": {},
   "outputs": [],
   "source": []
  },
  {
   "cell_type": "markdown",
   "metadata": {},
   "source": [
    "### Grouping"
   ]
  },
  {
   "cell_type": "code",
   "execution_count": 5,
   "metadata": {},
   "outputs": [
    {
     "name": "stdout",
     "output_type": "stream",
     "text": [
      "[('Max', 'Smith'), ('Sam', 'Darnold'), ('LeBron', 'James'), ('Micheal', 'Jordan'), ('Kevin', 'Durant'), ('Patrick', 'Mccorn')]\n",
      "<re.Match object; span=(0, 9), match='Max Smith'>\n",
      "not a name\n",
      "<re.Match object; span=(1, 12), match='Sam Darnold'>\n",
      "<re.Match object; span=(1, 13), match='LeBron James'>\n",
      "<re.Match object; span=(1, 15), match='Micheal Jordan'>\n",
      "<re.Match object; span=(1, 13), match='Kevin Durant'>\n",
      "<re.Match object; span=(1, 15), match='Patrick Mccorn'>\n"
     ]
    }
   ],
   "source": [
    "import re\n",
    "my_string_again = \"Max Smith, aaron rodgers, Sam Darnold, LeBron James, Micheal Jordan, Kevin Durant, Patrick Mccorn\"\n",
    "pattern_name = re.compile('([A-Z][a-zA-Za-z]+) ([A-Z][A-Za-z]+)')\n",
    "found_names = pattern_name.findall(my_string_again)\n",
    "print(found_names)\n",
    "#split string au commas\n",
    "for name in my_string_again.split(','):\n",
    "    match = pattern_name.search(name)\n",
    "    if match:\n",
    "        print(match)\n",
    "    else:\n",
    "        print(\"not a name\")"
   ]
  },
  {
   "cell_type": "markdown",
   "metadata": {},
   "source": [
    "##### In-class Exercise 2:\n",
    "\n",
    "Write a function using regular expressions to find the domain name in the given email addresses (and return None for the invalid email addresses)<br><b>HINT: Use '|' for either or</b>"
   ]
  },
  {
   "cell_type": "code",
   "execution_count": 102,
   "metadata": {},
   "outputs": [
    {
     "name": "stdout",
     "output_type": "stream",
     "text": [
      "None\n",
      "pocohontas1776@gmail.com\n",
      "None\n",
      "yourfavoriteband@g6.org\n",
      "None\n"
     ]
    }
   ],
   "source": [
    "my_emails = [\"jordanw@codingtemple.orgcom\", \"pocohontas1776@gmail.com\", \"helloworld@aol..com\",\n",
    "             \"yourfavoriteband@g6.org\", \"@codingtemple.com\"]\n",
    "\n",
    "# You can also use the $ at the end of your compile expression -- this stops the search\n",
    "a = re.compile('[\\w]+[@]{1}[\\w]+[.]{1}[\\w]{2,3}')\n",
    "d = re.compile('[\\w]+[@]{1}[\\w]+[.]{1}[\\w]{4,99999}')\n",
    "\n",
    "def f(list):\n",
    "    for x in range(len(list)):\n",
    "        b = a.findall(list[x])\n",
    "        if b == [] or d.findall(list[x])!=[]:\n",
    "            print(\"None\")\n",
    "        else:\n",
    "            print(b[0])\n",
    "f(my_emails)\n",
    "    \n",
    "    \n",
    "    \n",
    "\n",
    "\n",
    "#Expected output:\n",
    "#None\n",
    "#pocohontas1776@gmail.com\n",
    "#None\n",
    "#yourfavoriteband@g6.org\n",
    "#None\n",
    "\n",
    "\n"
   ]
  },
  {
   "cell_type": "markdown",
   "metadata": {},
   "source": [
    "### Opening a File <br>\n",
    "<p>Python gives us a couple ways to import files, below are the two used most often.</p>"
   ]
  },
  {
   "cell_type": "markdown",
   "metadata": {},
   "source": [
    "##### open()"
   ]
  },
  {
   "cell_type": "code",
   "execution_count": 2,
   "metadata": {},
   "outputs": [
    {
     "name": "stdout",
     "output_type": "stream",
     "text": [
      "﻿Hawkins, Derek  derek@codingtemple.com  (555) 555-5555  Teacher, Coding Temple  @derekhawkins\n",
      "Zhai, Mo        mozhai@codingtemple.com (555) 555-5554  Teacher, Coding Temple\n",
      "Johnson, Joe    joejohnson@codingtemple.com             Johson, Joe\n",
      "Osterberg, Sven-Erik    governor@norrbotten.co.se               Governor, Norrbotten    @sverik\n",
      ", Tim   tim@killerrabbit.com            Enchanter, Killer Rabbit Cave\n",
      "Butz, Ryan      ryanb@codingtemple.com  (555) 555-5543  CEO, Coding Temple      @ryanbutz\n",
      "Doctor, The     doctor+companion@tardis.co.uk           Time Lord, Gallifrey\n",
      "Exampleson, Example     me@example.com  555-555-5552    Example, Example Co.    @example\n",
      "Pael, Ripal     ripalp@codingtemple.com (555) 555-5553  Teacher, Coding Temple  @ripalp\n",
      "Vader, Darth    darth-vader@empire.gov  (555) 555-4444  Sith Lord, Galactic Empire      @darthvader\n",
      "Fernandez de la Vega Sanz, Maria Teresa mtfvs@spain.gov         First Deputy Prime Minister, Spanish Gov\n",
      "\n",
      "\n"
     ]
    }
   ],
   "source": [
    "f = open(\"names.txt\")\n",
    "data = f.read()\n",
    "print(data)\n",
    "f.close()"
   ]
  },
  {
   "cell_type": "markdown",
   "metadata": {},
   "source": [
    "##### with open()"
   ]
  },
  {
   "cell_type": "code",
   "execution_count": 3,
   "metadata": {},
   "outputs": [
    {
     "name": "stdout",
     "output_type": "stream",
     "text": [
      "﻿Hawkins, Derek  derek@codingtemple.com  (555) 555-5555  Teacher, Coding Temple  @derekhawkins\n",
      "Zhai, Mo        mozhai@codingtemple.com (555) 555-5554  Teacher, Coding Temple\n",
      "Johnson, Joe    joejohnson@codingtemple.com             Johson, Joe\n",
      "Osterberg, Sven-Erik    governor@norrbotten.co.se               Governor, Norrbotten    @sverik\n",
      ", Tim   tim@killerrabbit.com            Enchanter, Killer Rabbit Cave\n",
      "Butz, Ryan      ryanb@codingtemple.com  (555) 555-5543  CEO, Coding Temple      @ryanbutz\n",
      "Doctor, The     doctor+companion@tardis.co.uk           Time Lord, Gallifrey\n",
      "Exampleson, Example     me@example.com  555-555-5552    Example, Example Co.    @example\n",
      "Pael, Ripal     ripalp@codingtemple.com (555) 555-5553  Teacher, Coding Temple  @ripalp\n",
      "Vader, Darth    darth-vader@empire.gov  (555) 555-4444  Sith Lord, Galactic Empire      @darthvader\n",
      "Fernandez de la Vega Sanz, Maria Teresa mtfvs@spain.gov         First Deputy Prime Minister, Spanish Gov\n",
      "\n",
      "\n"
     ]
    }
   ],
   "source": [
    "with open('names.txt') as f:\n",
    "    data = f.read()\n",
    "    print(data)\n"
   ]
  },
  {
   "cell_type": "markdown",
   "metadata": {},
   "source": [
    "##### re.match()"
   ]
  },
  {
   "cell_type": "code",
   "execution_count": 15,
   "metadata": {},
   "outputs": [
    {
     "name": "stdout",
     "output_type": "stream",
     "text": [
      "﻿Hawkins, Derek  derek@codingtemple.com  (555) 555-5555  Teacher, Coding Temple  @derekhawkins\n",
      "Zhai, Mo        mozhai@codingtemple.com (555) 555-5554  Teacher, Coding Temple\n",
      "Johnson, Joe    joejohnson@codingtemple.com             Johson, Joe\n",
      "Osterberg, Sven-Erik    governor@norrbotten.co.se               Governor, Norrbotten    @sverik\n",
      ", Tim   tim@killerrabbit.com            Enchanter, Killer Rabbit Cave\n",
      "Butz, Ryan      ryanb@codingtemple.com  (555) 555-5543  CEO, Coding Temple      @ryanbutz\n",
      "Doctor, The     doctor+companion@tardis.co.uk           Time Lord, Gallifrey\n",
      "Exampleson, Example     me@example.com  555-555-5552    Example, Example Co.    @example\n",
      "Pael, Ripal     ripalp@codingtemple.com (555) 555-5553  Teacher, Coding Temple  @ripalp\n",
      "Vader, Darth    darth-vader@empire.gov  (555) 555-4444  Sith Lord, Galactic Empire      @darthvader\n",
      "Fernandez de la Vega Sanz, Maria Teresa mtfvs@spain.gov         First Deputy Prime Minister, Spanish Gov\n",
      "\n",
      "\n",
      "['Derek']\n"
     ]
    }
   ],
   "source": [
    "import re\n",
    "f = open(\"names.txt\")\n",
    "data = f.read()\n",
    "\n",
    "print(re.findall(r\"Derek\", data))"
   ]
  },
  {
   "cell_type": "markdown",
   "metadata": {},
   "source": [
    "##### re.search()"
   ]
  },
  {
   "cell_type": "code",
   "execution_count": 17,
   "metadata": {},
   "outputs": [
    {
     "name": "stdout",
     "output_type": "stream",
     "text": [
      "<re.Match object; span=(10, 15), match='Derek'>\n"
     ]
    }
   ],
   "source": [
    "import re\n",
    "f = open(\"names.txt\")\n",
    "data = f.read()\n",
    "\n",
    "print(re.search(r\"Derek\", data))"
   ]
  },
  {
   "cell_type": "markdown",
   "metadata": {},
   "source": [
    "##### Store the String to a Variable"
   ]
  },
  {
   "cell_type": "code",
   "execution_count": null,
   "metadata": {},
   "outputs": [],
   "source": [
    "answer = input(\"What would you like to search for?\")\n",
    "found = re.findall(answer, data)\n",
    "if found:\n",
    "    print(f\"I found your data!\")\n",
    "else:\n",
    "    print(\"nothing here\")"
   ]
  },
  {
   "cell_type": "markdown",
   "metadata": {},
   "source": [
    "### In-Class Exercise #3 <br>\n",
    "<p>Print each persons name and twitter handle, using groups, should look like:</p>\n",
    "<p>==============<br>\n",
    "   Full Name / Twitter<br>\n",
    "   ==============</p>\n",
    "Derek Hawkins / @derekhawkins\n",
    "\n",
    " Erik Sven-Osterberg / @sverik\n",
    "        \n",
    " Ryan Butz / @ryanbutz\n",
    "\n",
    " Example Exampleson / @example\n",
    "\n",
    " Ripal Pael / @ripalp\n",
    "\n",
    " Darth Vader / @darthvader"
   ]
  },
  {
   "cell_type": "code",
   "execution_count": 145,
   "metadata": {
    "scrolled": true
   },
   "outputs": [
    {
     "name": "stdout",
     "output_type": "stream",
     "text": [
      "Derek Hawkins / @derekhawkins\n",
      "Sven-Erik Osterberg / @sverik\n",
      "Ryan Butz / @ryanbutz\n",
      "Example Exampleson / @example\n",
      "Ripal Pael / @ripalp\n",
      "Darth Vader / @darthvader\n"
     ]
    }
   ],
   "source": [
    "import re\n",
    "f = open(\"names.txt\")\n",
    "lines = f.readlines()\n",
    "dikt = {}\n",
    "dict = {}\n",
    "namepatt = re.compile('^[A-Z][a-zA-z ]+[,][ ][A-Z][a-z]+[-]*[A-Za-z]+[ ]')\n",
    "twitpatt = re.compile('[ ][@][a-z]+')\n",
    "for x in lines:\n",
    "    nam = namepatt.findall(x)\n",
    "    twit = twitpatt.findall(x)\n",
    "    if nam and twit:\n",
    "        twit[0] = twit[0].strip()\n",
    "        nam[0] = nam[0].strip()\n",
    "        dict[nam[0]] = twit[0]\n",
    "for k, v in dict.items():\n",
    "    k = k.split(',')\n",
    "    o = k[1]+' '+k[0]\n",
    "    o = o.strip()\n",
    "    dikt[o] = v\n",
    "    print(o+\" / \"+v)\n",
    "#Above the code, Erik's full name is shown as being Erik Sven-Osterberg, however in names.txt is is Sven-Erik Osterberg?\n",
    "    \n",
    "\n",
    "\n",
    "    "
   ]
  },
  {
   "cell_type": "markdown",
   "metadata": {},
   "source": [
    "### Regex project\n",
    "\n",
    "Use python to read the file regex_test.txt and print the last name on each line using regular expressions and groups (return None for names with no first and last name, or names that aren't properly capitalized)\n",
    "##### Hint: use with open() and readlines()"
   ]
  },
  {
   "cell_type": "code",
   "execution_count": 161,
   "metadata": {},
   "outputs": [
    {
     "name": "stdout",
     "output_type": "stream",
     "text": [
      "Abraham Lincoln\n",
      "Andrew P Garfield\n",
      "Connor Milliken\n",
      "Jordan Alexander Williams\n",
      "None\n",
      "None\n"
     ]
    }
   ],
   "source": [
    "\"\"\"\n",
    "Expected Output\n",
    "Abraham Lincoln\n",
    "Andrew P Garfield\n",
    "Connor Milliken\n",
    "Jordan Alexander Williams\n",
    "None\n",
    "None\n",
    "\"\"\"\n",
    "import re\n",
    "f = open('regex-test.txt')\n",
    "lines = f.readlines()\n",
    "nampat = re.compile(\"[A-Z][a-z]+[ ][A-Z]?[ ]?[A-Z][a-z]+[ ]?[A-Za-z]+\")\n",
    "for x in lines:\n",
    "    if x != lines[-1]:\n",
    "        names = nampat.findall(x)\n",
    "        if names != []:\n",
    "            print(names[0])\n",
    "        else:\n",
    "            print(None)"
   ]
  },
  {
   "cell_type": "code",
   "execution_count": null,
   "metadata": {},
   "outputs": [],
   "source": []
  }
 ],
 "metadata": {
  "kernelspec": {
   "display_name": "Python 3 (ipykernel)",
   "language": "python",
   "name": "python3"
  },
  "language_info": {
   "codemirror_mode": {
    "name": "ipython",
    "version": 3
   },
   "file_extension": ".py",
   "mimetype": "text/x-python",
   "name": "python",
   "nbconvert_exporter": "python",
   "pygments_lexer": "ipython3",
   "version": "3.9.13"
  }
 },
 "nbformat": 4,
 "nbformat_minor": 2
}
